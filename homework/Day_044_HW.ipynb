{
 "cells": [
  {
   "cell_type": "markdown",
   "metadata": {},
   "source": [
    "## [作業重點]\n",
    "確保你了解隨機森林模型中每個超參數的意義，並觀察調整超參數對結果的影響"
   ]
  },
  {
   "cell_type": "markdown",
   "metadata": {},
   "source": [
    "## 作業\n",
    "\n",
    "1. 試著調整 RandomForestClassifier(...) 中的參數，並觀察是否會改變結果？\n",
    "2. 改用其他資料集 (boston, wine)，並與回歸模型與決策樹的結果進行比較"
   ]
  },
  {
   "cell_type": "code",
   "execution_count": 7,
   "metadata": {},
   "outputs": [],
   "source": [
    "from sklearn import datasets, metrics\n",
    "from sklearn.ensemble import RandomForestClassifier\n",
    "from sklearn.model_selection import train_test_split\n",
    "from sklearn.tree import DecisionTreeClassifier, DecisionTreeRegressor"
   ]
  },
  {
   "cell_type": "code",
   "execution_count": 8,
   "metadata": {},
   "outputs": [],
   "source": [
    "# 讀取鳶尾花資料集\n",
    "iris = datasets.load_iris()\n",
    "\n",
    "# 切分訓練集/測試集\n",
    "x_train, x_test, y_train, y_test = train_test_split(iris.data, iris.target, test_size=0.25, random_state=4)\n",
    "\n",
    "# 建立模型 (使用 20 顆樹，每棵樹的最大深度為 4)\n",
    "clf = RandomForestClassifier(n_estimators=100, max_depth=4)\n",
    "\n",
    "# 訓練模型\n",
    "clf.fit(x_train, y_train)\n",
    "\n",
    "# 預測測試集\n",
    "y_pred = clf.predict(x_test)"
   ]
  },
  {
   "cell_type": "code",
   "execution_count": 9,
   "metadata": {},
   "outputs": [
    {
     "name": "stdout",
     "output_type": "stream",
     "text": [
      "Accuracy:  0.9736842105263158\n"
     ]
    }
   ],
   "source": [
    "acc = metrics.accuracy_score(y_test, y_pred)\n",
    "print(\"Accuracy: \", acc)"
   ]
  },
  {
   "cell_type": "markdown",
   "metadata": {},
   "source": [
    "### 紅酒資料集 決策樹 vs 隨機森林 ✔\n",
    "### 0.8666666666666667 vs 0.9555555555555556"
   ]
  },
  {
   "cell_type": "code",
   "execution_count": 10,
   "metadata": {},
   "outputs": [],
   "source": [
    "wine = datasets.load_wine()\n",
    "\n",
    "# 切分訓練集/測試集\n",
    "x_train_wine, x_test_wine, y_train_wine, y_test_wine = train_test_split(wine.data, wine.target, test_size=0.25, random_state=4)\n",
    "\n",
    "# 建立模型 (使用 20 顆樹，每棵樹的最大深度為 4)\n",
    "clf = RandomForestClassifier(n_estimators=100, max_depth=4)\n",
    "\n",
    "# 訓練模型\n",
    "clf.fit(x_train_wine, y_train_wine)\n",
    "\n",
    "# 預測測試集\n",
    "y_pred_wine = clf.predict(x_test_wine)"
   ]
  },
  {
   "cell_type": "code",
   "execution_count": 35,
   "metadata": {},
   "outputs": [
    {
     "name": "stdout",
     "output_type": "stream",
     "text": [
      "Acuuracy:  0.8666666666666667\n"
     ]
    }
   ],
   "source": [
    "# 讀取紅酒資料集-決策樹\n",
    "wine = datasets.load_wine()\n",
    "\n",
    "# 切分訓練集/測試集\n",
    "x_train_wine, x_test_wine, y_train_wine, y_test_wine = train_test_split(wine.data, wine.target, test_size=0.25, random_state=4)\n",
    "\n",
    "# 建立模型\n",
    "clf = DecisionTreeClassifier(criterion = 'gini',\n",
    "                             max_depth =36,\n",
    "                             min_samples_split = 2,\n",
    "                             min_samples_leaf = 9)\n",
    "\n",
    "# 訓練模型\n",
    "clf.fit(x_train_wine, y_train_wine)\n",
    "\n",
    "# 預測測試集\n",
    "y_pred_wine = clf.predict(x_test_wine)\n",
    "\n",
    "acc = metrics.accuracy_score(y_test_wine, y_pred_wine)\n",
    "print(\"Acuuracy: \", acc)"
   ]
  },
  {
   "cell_type": "code",
   "execution_count": 48,
   "metadata": {},
   "outputs": [],
   "source": [
    "# 讀取紅酒資料集 -隨機森林\n",
    "wine = datasets.load_wine()\n",
    "\n",
    "# 切分訓練集/測試集\n",
    "x_train_wine, x_test_wine, y_train_wine, y_test_wine = train_test_split(wine.data, wine.target, test_size=0.25, random_state=4)\n",
    "\n",
    "# 建立模型 (使用 20 顆樹，每棵樹的最大深度為 4)\n",
    "clf = RandomForestClassifier(n_estimators=5, max_depth=6)\n",
    "\n",
    "# 訓練模型\n",
    "clf.fit(x_train_wine, y_train_wine)\n",
    "\n",
    "# 預測測試集\n",
    "y_pred_wine = clf.predict(x_test_wine)"
   ]
  },
  {
   "cell_type": "code",
   "execution_count": 49,
   "metadata": {},
   "outputs": [
    {
     "name": "stdout",
     "output_type": "stream",
     "text": [
      "Accuracy:  0.9555555555555556\n"
     ]
    }
   ],
   "source": [
    "acc = metrics.accuracy_score(y_test_wine, y_pred_wine)\n",
    "print(\"Accuracy: \", acc)"
   ]
  },
  {
   "cell_type": "markdown",
   "metadata": {},
   "source": [
    "### 決策樹 vs 隨機森林 ✔  vs 線性廻歸\n",
    "### 0.7344926193277548 vs 0.9507642428905358 vs 0.7313816523148395"
   ]
  },
  {
   "cell_type": "code",
   "execution_count": 16,
   "metadata": {},
   "outputs": [],
   "source": [
    "#決栜樹-波士頓房價\n",
    "\n",
    "# 讀取房價資料集\n",
    "boston = datasets.load_boston()\n",
    "\n",
    "# 切分訓練集/測試集\n",
    "x_train_boston, x_test_boston, y_train_boston, y_test_boston = train_test_split(boston.data, boston.target, test_size=0.25, random_state=4)\n",
    "\n",
    "# 建立模型 (使用 20 顆樹，每棵樹的最大深度為 4)\n",
    "clf = DecisionTreeRegressor(random_state=3)\n",
    "\n",
    "# 訓練模型\n",
    "clf.fit(x_train_boston, y_train_boston)\n",
    "\n",
    "# 預測測試集\n",
    "y_pred_boston = clf.predict(x_test_boston)"
   ]
  },
  {
   "cell_type": "code",
   "execution_count": 17,
   "metadata": {
    "scrolled": true
   },
   "outputs": [
    {
     "name": "stdout",
     "output_type": "stream",
     "text": [
      "1.0\n",
      "0.7344926193277548\n"
     ]
    }
   ],
   "source": [
    "print(clf.score(x_train_boston,y_train_boston))\n",
    "print(clf.score(x_test_boston,y_test_boston))"
   ]
  },
  {
   "cell_type": "code",
   "execution_count": 51,
   "metadata": {},
   "outputs": [],
   "source": [
    "#隨機森林-波士頓房價\n",
    "from sklearn.ensemble import RandomForestRegressor\n",
    "# 讀取房價資料集\n",
    "boston = datasets.load_boston()\n",
    "\n",
    "# 切分訓練集/測試集\n",
    "x_train_boston, x_test_boston, y_train_boston, y_test_boston = train_test_split(boston.data, boston.target, test_size=0.25, random_state=4)\n",
    "\n",
    "# 建立模型 (使用 20 顆樹，每棵樹的最大深度為 4)\n",
    "clf = RandomForestRegressor(n_estimators=20, max_depth=6)\n",
    "\n",
    "# 訓練模型\n",
    "clf.fit(x_train_boston, y_train_boston)\n",
    "\n",
    "# 預測測試集\n",
    "y_pred_boston = clf.predict(x_test_boston)"
   ]
  },
  {
   "cell_type": "code",
   "execution_count": 52,
   "metadata": {},
   "outputs": [
    {
     "name": "stdout",
     "output_type": "stream",
     "text": [
      "0.9507642428905358\n"
     ]
    }
   ],
   "source": [
    "print(clf.score(x_train_boston,y_train_boston))\n",
    "#print(clf.score(x_test_boston,y_test_boston))"
   ]
  },
  {
   "cell_type": "code",
   "execution_count": 55,
   "metadata": {},
   "outputs": [],
   "source": [
    "#線性廻歸-波士頓房價\n",
    "from sklearn import datasets, linear_model\n",
    "boston = datasets.load_boston()\n",
    "# 切分訓練集/測試集\n",
    "x_train_boston, x_test_boston, y_train_boston, y_test_boston = train_test_split(boston.data, boston.target, test_size=0.25, random_state=4)\n",
    "\n",
    "# 建立一個線性回歸模型\n",
    "regr = linear_model.LinearRegression()\n",
    "\n",
    "# 將訓練資料丟進去模型訓練\n",
    "regr.fit(x_train_boston, y_train_boston)\n",
    "\n",
    "# 將測試資料丟進模型得到預測結果\n",
    "y_pred_boston_regr = regr.predict(x_test_boston)"
   ]
  },
  {
   "cell_type": "code",
   "execution_count": 56,
   "metadata": {},
   "outputs": [
    {
     "name": "stdout",
     "output_type": "stream",
     "text": [
      "0.7313816523148395\n"
     ]
    }
   ],
   "source": [
    "#print(regr.score(x_train_boston,y_train_boston))\n",
    "print(regr.score(x_test_boston,y_test_boston))"
   ]
  }
 ],
 "metadata": {
  "kernelspec": {
   "display_name": "Python 3",
   "language": "python",
   "name": "python3"
  },
  "language_info": {
   "codemirror_mode": {
    "name": "ipython",
    "version": 3
   },
   "file_extension": ".py",
   "mimetype": "text/x-python",
   "name": "python",
   "nbconvert_exporter": "python",
   "pygments_lexer": "ipython3",
   "version": "3.7.3"
  }
 },
 "nbformat": 4,
 "nbformat_minor": 2
}
