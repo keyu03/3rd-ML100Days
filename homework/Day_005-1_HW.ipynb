{
 "cells": [
  {
   "cell_type": "markdown",
   "metadata": {},
   "source": [
    "# [作業目標]\n",
    "- 利用範例的創建方式, 創建一組資料, 並練習如何取出最大值"
   ]
  },
  {
   "cell_type": "markdown",
   "metadata": {},
   "source": [
    "# [作業重點]\n",
    "- 練習創立 DataFrame (In[2])\n",
    "- 如何取出口數最多的國家 (In[3], Out[3])"
   ]
  },
  {
   "cell_type": "markdown",
   "metadata": {},
   "source": [
    "## 練習時間\n",
    "在小量的資料上，我們用眼睛就可以看得出來程式碼是否有跑出我們理想中的結果\n",
    "\n",
    "請嘗試想像一個你需要的資料結構 (裡面的值可以是隨機的)，然後用上述的方法把它變成 pandas DataFrame\n",
    "\n",
    "#### Ex: 想像一個 dataframe 有兩個欄位，一個是國家，一個是人口，求人口數最多的國家\n",
    "\n",
    "### Hints: [隨機產生數值](https://blog.csdn.net/christianashannon/article/details/78867204)"
   ]
  },
  {
   "cell_type": "code",
   "execution_count": 3,
   "metadata": {},
   "outputs": [],
   "source": [
    "import pandas as pd\n",
    "import numpy as np"
   ]
  },
  {
   "cell_type": "code",
   "execution_count": 18,
   "metadata": {},
   "outputs": [
    {
     "name": "stdout",
     "output_type": "stream",
     "text": [
      "          國家          人口\n",
      "0     Taiwan  1158290001\n",
      "1  Australia  1938310321\n",
      "2     Canada   462844906\n",
      "3      China   585294530\n",
      "4    Estonia   986950224\n",
      "5      India    79617049\n",
      "6      Libya   391352818\n",
      "7   Malaysia   935602742\n"
     ]
    }
   ],
   "source": [
    "'''\n",
    "country = ['Taiwan','Australia','Canada','China','Estonia','India','Libya','Malaysia']\n",
    "population = np.random.randint(2000000000,size=8)\n",
    "list_labels = ['country', 'population']\n",
    "list_cols = [country, population]\n",
    "zipped1 = list(zip(list_labels, list_cols))\n",
    "visitors_3 = pd.DataFrame(dict(zipped1))\n",
    "print(visitors_3)\n",
    "'''\n",
    "\n",
    "population = np.random.randint(2000000000,size=8)\n",
    "data = {'國家': ['Taiwan','Australia','Canada','China','Estonia','India','Libya','Malaysia'],\n",
    "        '人口': population}\n",
    "data = pd.DataFrame(data)\n",
    "print(data)"
   ]
  },
  {
   "cell_type": "code",
   "execution_count": 19,
   "metadata": {},
   "outputs": [
    {
     "name": "stdout",
     "output_type": "stream",
     "text": [
      "['Australia' 1938310321]\n"
     ]
    }
   ],
   "source": [
    "maxidx = data[\"人口\"].idxmax()\n",
    "print(data.values[maxidx])"
   ]
  }
 ],
 "metadata": {
  "kernelspec": {
   "display_name": "Python 3",
   "language": "python",
   "name": "python3"
  },
  "language_info": {
   "codemirror_mode": {
    "name": "ipython",
    "version": 3
   },
   "file_extension": ".py",
   "mimetype": "text/x-python",
   "name": "python",
   "nbconvert_exporter": "python",
   "pygments_lexer": "ipython3",
   "version": "3.7.3"
  }
 },
 "nbformat": 4,
 "nbformat_minor": 2
}
