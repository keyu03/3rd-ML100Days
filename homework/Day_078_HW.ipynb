{
 "cells": [
  {
   "cell_type": "markdown",
   "metadata": {},
   "source": [
    "## Work\n",
    "1. 請嘗試將 preproc_x 替換成以每筆資料的 min/max 進行標準化至 -1 ~ 1 間，再進行訓練\n",
    "2. 請嘗試將 mlp 疊更深 (e.g 5~10 層)，進行訓練後觀察 learning curve 的走勢\n",
    "3. (optional) 請改用 GPU 進行訓練 (如果你有 GPU 的話)，比較使用 CPU 與 GPU 的訓練速度"
   ]
  },
  {
   "cell_type": "code",
   "execution_count": 1,
   "metadata": {},
   "outputs": [],
   "source": [
    "## \n",
    "\"\"\"\n",
    "Your code here (optional)\n",
    "確認硬體資源\n",
    "\"\"\"\n"
   ]
  },
  {
   "cell_type": "code",
   "execution_count": 10,
   "metadata": {},
   "outputs": [],
   "source": [
    "import os\n",
    "import keras\n",
    "\n",
    "# 請嘗試設定 GPU：os.environ\n",
    "os.environ['CUDA_VISIBLE_DEVICES'] = '-1'"
   ]
  },
  {
   "cell_type": "code",
   "execution_count": 11,
   "metadata": {},
   "outputs": [],
   "source": [
    "train, test = keras.datasets.cifar10.load_data()"
   ]
  },
  {
   "cell_type": "code",
   "execution_count": 12,
   "metadata": {},
   "outputs": [],
   "source": [
    "## 資料前處理\n",
    "\"\"\"\n",
    "請嘗試將 preproc_x 替換成以每筆資料的 min/max 進行標準化至 -1 ~ 1 間，再進行訓練\n",
    "\"\"\"\n",
    "def preproc_x(x, flatten=True):\n",
    "    x = x / 255.\n",
    "    if flatten:\n",
    "        x = x.reshape((len(x), -1))\n",
    "    return x\n",
    "\n",
    "def preproc_y(y, num_classes=10):\n",
    "    if y.shape[-1] == 1:\n",
    "        y = keras.utils.to_categorical(y, num_classes)\n",
    "    return y    "
   ]
  },
  {
   "cell_type": "code",
   "execution_count": 13,
   "metadata": {},
   "outputs": [],
   "source": [
    "x_train, y_train = train\n",
    "x_test, y_test = test\n",
    "\n",
    "# Preproc the inputs\n",
    "x_train = preproc_x(x_train)\n",
    "x_test = preproc_x(x_test)\n",
    "\n",
    "# Preprc the outputs\n",
    "y_train = preproc_y(y_train)\n",
    "y_test = preproc_y(y_test)"
   ]
  },
  {
   "cell_type": "code",
   "execution_count": 19,
   "metadata": {},
   "outputs": [],
   "source": [
    "\"\"\"Code Here\n",
    "建立你的神經網路\n",
    "請嘗試將 mlp 疊更深 (e.g 5~10 層)，進行訓練後觀察 learning curve 的走勢\n",
    "\"\"\"\n",
    "def build_mlp(input_shape, output_units=10, num_neurons=[512, 256, 128, 128, 64]):\n",
    "    input_layer = keras.layers.Input(input_shape)\n",
    "    \n",
    "    for i, n_units in enumerate(num_neurons):\n",
    "        if i == 0:\n",
    "            x = keras.layers.Dense(units=n_units, activation=\"relu\", name=\"hidden_layer\"+str(i+1))(input_layer)\n",
    "        else:\n",
    "            x = keras.layers.Dense(units=n_units, activation=\"relu\", name=\"hidden_layer\"+str(i+1))(x)\n",
    "    \n",
    "    out = keras.layers.Dense(units=output_units, activation=\"softmax\", name=\"output\")(x)\n",
    "    \n",
    "    model = keras.models.Model(inputs=[input_layer], outputs=[out])\n",
    "    return model"
   ]
  },
  {
   "cell_type": "code",
   "execution_count": 20,
   "metadata": {},
   "outputs": [
    {
     "name": "stdout",
     "output_type": "stream",
     "text": [
      "Model: \"model_3\"\n",
      "_________________________________________________________________\n",
      "Layer (type)                 Output Shape              Param #   \n",
      "=================================================================\n",
      "input_3 (InputLayer)         (None, 3072)              0         \n",
      "_________________________________________________________________\n",
      "hidden_layer1 (Dense)        (None, 512)               1573376   \n",
      "_________________________________________________________________\n",
      "hidden_layer2 (Dense)        (None, 256)               131328    \n",
      "_________________________________________________________________\n",
      "hidden_layer3 (Dense)        (None, 128)               32896     \n",
      "_________________________________________________________________\n",
      "hidden_layer4 (Dense)        (None, 128)               16512     \n",
      "_________________________________________________________________\n",
      "hidden_layer5 (Dense)        (None, 64)                8256      \n",
      "_________________________________________________________________\n",
      "output (Dense)               (None, 10)                650       \n",
      "=================================================================\n",
      "Total params: 1,763,018\n",
      "Trainable params: 1,763,018\n",
      "Non-trainable params: 0\n",
      "_________________________________________________________________\n"
     ]
    }
   ],
   "source": [
    "model = build_mlp(input_shape=x_train.shape[1:])\n",
    "model.summary()"
   ]
  },
  {
   "cell_type": "code",
   "execution_count": 21,
   "metadata": {},
   "outputs": [],
   "source": [
    "## 超參數設定\n",
    "LEARNING_RATE = 0.001\n",
    "EPOCHS = 100\n",
    "BATCH_SIZE = 256"
   ]
  },
  {
   "cell_type": "code",
   "execution_count": 22,
   "metadata": {},
   "outputs": [],
   "source": [
    "optimizer = keras.optimizers.Adam(lr=LEARNING_RATE)\n",
    "model.compile(loss=\"categorical_crossentropy\", metrics=[\"accuracy\"], optimizer=optimizer)"
   ]
  },
  {
   "cell_type": "code",
   "execution_count": 23,
   "metadata": {},
   "outputs": [
    {
     "name": "stdout",
     "output_type": "stream",
     "text": [
      "WARNING:tensorflow:From c:\\programdata\\anaconda3\\envs\\tensorflow_gpu\\lib\\site-packages\\keras\\backend\\tensorflow_backend.py:422: The name tf.global_variables is deprecated. Please use tf.compat.v1.global_variables instead.\n",
      "\n",
      "Train on 50000 samples, validate on 10000 samples\n",
      "Epoch 1/100\n",
      "50000/50000 [==============================] - 6s 114us/step - loss: 1.9458 - accuracy: 0.2859 - val_loss: 1.7908 - val_accuracy: 0.3431\n",
      "Epoch 2/100\n",
      "50000/50000 [==============================] - 6s 114us/step - loss: 1.7365 - accuracy: 0.3711 - val_loss: 1.6807 - val_accuracy: 0.3922\n",
      "Epoch 3/100\n",
      "50000/50000 [==============================] - 6s 115us/step - loss: 1.6565 - accuracy: 0.4042 - val_loss: 1.5932 - val_accuracy: 0.4269\n",
      "Epoch 4/100\n",
      "50000/50000 [==============================] - 6s 117us/step - loss: 1.5737 - accuracy: 0.4363 - val_loss: 1.5807 - val_accuracy: 0.4283\n",
      "Epoch 5/100\n",
      "50000/50000 [==============================] - 6s 114us/step - loss: 1.5298 - accuracy: 0.4507 - val_loss: 1.5447 - val_accuracy: 0.4489\n",
      "Epoch 6/100\n",
      "50000/50000 [==============================] - 6s 117us/step - loss: 1.4940 - accuracy: 0.4634 - val_loss: 1.5258 - val_accuracy: 0.4499\n",
      "Epoch 7/100\n",
      "50000/50000 [==============================] - 6s 118us/step - loss: 1.4595 - accuracy: 0.4787 - val_loss: 1.4828 - val_accuracy: 0.4769\n",
      "Epoch 8/100\n",
      "50000/50000 [==============================] - 7s 130us/step - loss: 1.4257 - accuracy: 0.4905 - val_loss: 1.4532 - val_accuracy: 0.4826\n",
      "Epoch 9/100\n",
      "50000/50000 [==============================] - 6s 118us/step - loss: 1.4027 - accuracy: 0.4986 - val_loss: 1.4709 - val_accuracy: 0.4724\n",
      "Epoch 10/100\n",
      "50000/50000 [==============================] - 6s 111us/step - loss: 1.3654 - accuracy: 0.5128 - val_loss: 1.4345 - val_accuracy: 0.4849\n",
      "Epoch 11/100\n",
      "50000/50000 [==============================] - 6s 115us/step - loss: 1.3499 - accuracy: 0.5177 - val_loss: 1.4465 - val_accuracy: 0.4839\n",
      "Epoch 12/100\n",
      "50000/50000 [==============================] - 6s 113us/step - loss: 1.3243 - accuracy: 0.5263 - val_loss: 1.4287 - val_accuracy: 0.4921\n",
      "Epoch 13/100\n",
      "50000/50000 [==============================] - 6s 118us/step - loss: 1.3017 - accuracy: 0.5345 - val_loss: 1.4469 - val_accuracy: 0.4883\n",
      "Epoch 14/100\n",
      "50000/50000 [==============================] - 6s 121us/step - loss: 1.2694 - accuracy: 0.5457 - val_loss: 1.3932 - val_accuracy: 0.5047\n",
      "Epoch 15/100\n",
      "50000/50000 [==============================] - 7s 136us/step - loss: 1.2484 - accuracy: 0.5528 - val_loss: 1.3816 - val_accuracy: 0.5124\n",
      "Epoch 16/100\n",
      "50000/50000 [==============================] - 7s 133us/step - loss: 1.2322 - accuracy: 0.5601 - val_loss: 1.4986 - val_accuracy: 0.4771\n",
      "Epoch 17/100\n",
      "50000/50000 [==============================] - 6s 124us/step - loss: 1.2083 - accuracy: 0.5684 - val_loss: 1.4860 - val_accuracy: 0.4814\n",
      "Epoch 18/100\n",
      "50000/50000 [==============================] - 6s 129us/step - loss: 1.1927 - accuracy: 0.5742 - val_loss: 1.3860 - val_accuracy: 0.5170\n",
      "Epoch 19/100\n",
      "50000/50000 [==============================] - 7s 136us/step - loss: 1.1737 - accuracy: 0.5821 - val_loss: 1.4355 - val_accuracy: 0.5011\n",
      "Epoch 20/100\n",
      "50000/50000 [==============================] - 6s 128us/step - loss: 1.1531 - accuracy: 0.5868 - val_loss: 1.3832 - val_accuracy: 0.5193\n",
      "Epoch 21/100\n",
      "50000/50000 [==============================] - 7s 132us/step - loss: 1.1342 - accuracy: 0.5966 - val_loss: 1.4086 - val_accuracy: 0.5140\n",
      "Epoch 22/100\n",
      "50000/50000 [==============================] - 6s 119us/step - loss: 1.1112 - accuracy: 0.6040 - val_loss: 1.3806 - val_accuracy: 0.5195\n",
      "Epoch 23/100\n",
      "50000/50000 [==============================] - 6s 116us/step - loss: 1.0954 - accuracy: 0.6100 - val_loss: 1.3993 - val_accuracy: 0.5118\n",
      "Epoch 24/100\n",
      "50000/50000 [==============================] - 6s 124us/step - loss: 1.0735 - accuracy: 0.6142 - val_loss: 1.3537 - val_accuracy: 0.5346\n",
      "Epoch 25/100\n",
      "50000/50000 [==============================] - 6s 120us/step - loss: 1.0560 - accuracy: 0.6233 - val_loss: 1.3957 - val_accuracy: 0.5184\n",
      "Epoch 26/100\n",
      "50000/50000 [==============================] - 7s 132us/step - loss: 1.0250 - accuracy: 0.6302 - val_loss: 1.4277 - val_accuracy: 0.5195\n",
      "Epoch 27/100\n",
      "50000/50000 [==============================] - 6s 115us/step - loss: 1.0058 - accuracy: 0.6408 - val_loss: 1.4393 - val_accuracy: 0.5188\n",
      "Epoch 28/100\n",
      "50000/50000 [==============================] - 6s 124us/step - loss: 0.9965 - accuracy: 0.6453 - val_loss: 1.4329 - val_accuracy: 0.5222\n",
      "Epoch 29/100\n",
      "50000/50000 [==============================] - 6s 123us/step - loss: 0.9675 - accuracy: 0.6539 - val_loss: 1.4585 - val_accuracy: 0.5178\n",
      "Epoch 30/100\n",
      "50000/50000 [==============================] - 6s 113us/step - loss: 0.9644 - accuracy: 0.6544 - val_loss: 1.4509 - val_accuracy: 0.5240\n",
      "Epoch 31/100\n",
      "50000/50000 [==============================] - 6s 113us/step - loss: 0.9577 - accuracy: 0.6554 - val_loss: 1.4399 - val_accuracy: 0.5295\n",
      "Epoch 32/100\n",
      "50000/50000 [==============================] - 6s 116us/step - loss: 0.9241 - accuracy: 0.6686 - val_loss: 1.4773 - val_accuracy: 0.5152\n",
      "Epoch 33/100\n",
      "50000/50000 [==============================] - 6s 113us/step - loss: 0.9017 - accuracy: 0.6758 - val_loss: 1.4629 - val_accuracy: 0.5176\n",
      "Epoch 34/100\n",
      "50000/50000 [==============================] - 6s 122us/step - loss: 0.8875 - accuracy: 0.6829 - val_loss: 1.5038 - val_accuracy: 0.5204\n",
      "Epoch 35/100\n",
      "50000/50000 [==============================] - 6s 120us/step - loss: 0.8603 - accuracy: 0.6924 - val_loss: 1.4833 - val_accuracy: 0.5199\n",
      "Epoch 36/100\n",
      "50000/50000 [==============================] - 6s 128us/step - loss: 0.8444 - accuracy: 0.6979 - val_loss: 1.5316 - val_accuracy: 0.5228\n",
      "Epoch 37/100\n",
      "50000/50000 [==============================] - 6s 120us/step - loss: 0.8400 - accuracy: 0.6971 - val_loss: 1.5184 - val_accuracy: 0.5205\n",
      "Epoch 38/100\n",
      "50000/50000 [==============================] - 6s 126us/step - loss: 0.8178 - accuracy: 0.7067 - val_loss: 1.5767 - val_accuracy: 0.5179\n",
      "Epoch 39/100\n",
      "50000/50000 [==============================] - 6s 125us/step - loss: 0.7880 - accuracy: 0.7168 - val_loss: 1.5949 - val_accuracy: 0.5116\n",
      "Epoch 40/100\n",
      "50000/50000 [==============================] - 6s 118us/step - loss: 0.7762 - accuracy: 0.7216 - val_loss: 1.5910 - val_accuracy: 0.5108\n",
      "Epoch 41/100\n",
      "50000/50000 [==============================] - 6s 113us/step - loss: 0.7645 - accuracy: 0.7260 - val_loss: 1.6389 - val_accuracy: 0.5165\n",
      "Epoch 42/100\n",
      "50000/50000 [==============================] - 6s 114us/step - loss: 0.7508 - accuracy: 0.7302 - val_loss: 1.6763 - val_accuracy: 0.5184\n",
      "Epoch 43/100\n",
      "50000/50000 [==============================] - 6s 113us/step - loss: 0.7652 - accuracy: 0.7248 - val_loss: 1.7256 - val_accuracy: 0.5138\n",
      "Epoch 44/100\n",
      "50000/50000 [==============================] - 6s 113us/step - loss: 0.7354 - accuracy: 0.7339 - val_loss: 1.7057 - val_accuracy: 0.5053\n",
      "Epoch 45/100\n",
      "50000/50000 [==============================] - 6s 126us/step - loss: 0.7032 - accuracy: 0.7472 - val_loss: 1.7462 - val_accuracy: 0.5097\n",
      "Epoch 46/100\n",
      "50000/50000 [==============================] - 6s 116us/step - loss: 0.6942 - accuracy: 0.7494 - val_loss: 1.7473 - val_accuracy: 0.5114\n",
      "Epoch 47/100\n",
      "50000/50000 [==============================] - 7s 134us/step - loss: 0.6849 - accuracy: 0.7545 - val_loss: 1.7721 - val_accuracy: 0.5130\n",
      "Epoch 48/100\n",
      "50000/50000 [==============================] - 6s 127us/step - loss: 0.6787 - accuracy: 0.7557 - val_loss: 1.8084 - val_accuracy: 0.5184\n",
      "Epoch 49/100\n",
      "50000/50000 [==============================] - 6s 118us/step - loss: 0.6524 - accuracy: 0.7668 - val_loss: 1.8219 - val_accuracy: 0.5146\n",
      "Epoch 50/100\n",
      "50000/50000 [==============================] - 6s 116us/step - loss: 0.6624 - accuracy: 0.7627 - val_loss: 1.7789 - val_accuracy: 0.5203\n",
      "Epoch 51/100\n",
      "50000/50000 [==============================] - 6s 113us/step - loss: 0.6262 - accuracy: 0.7757 - val_loss: 1.8550 - val_accuracy: 0.5100\n",
      "Epoch 52/100\n",
      "50000/50000 [==============================] - 6s 112us/step - loss: 0.6246 - accuracy: 0.7763 - val_loss: 1.8561 - val_accuracy: 0.5211\n",
      "Epoch 53/100\n",
      "50000/50000 [==============================] - 6s 114us/step - loss: 0.5977 - accuracy: 0.7841 - val_loss: 1.9063 - val_accuracy: 0.5120\n"
     ]
    },
    {
     "name": "stdout",
     "output_type": "stream",
     "text": [
      "Epoch 54/100\n",
      "50000/50000 [==============================] - 5s 109us/step - loss: 0.6040 - accuracy: 0.7822 - val_loss: 1.9668 - val_accuracy: 0.5142\n",
      "Epoch 55/100\n",
      "50000/50000 [==============================] - 6s 111us/step - loss: 0.5923 - accuracy: 0.7854 - val_loss: 2.0393 - val_accuracy: 0.5009\n",
      "Epoch 56/100\n",
      "50000/50000 [==============================] - 6s 111us/step - loss: 0.5892 - accuracy: 0.7880 - val_loss: 1.9503 - val_accuracy: 0.5133\n",
      "Epoch 57/100\n",
      "50000/50000 [==============================] - 5s 110us/step - loss: 0.5703 - accuracy: 0.7944 - val_loss: 2.0591 - val_accuracy: 0.5060\n",
      "Epoch 58/100\n",
      "50000/50000 [==============================] - 5s 110us/step - loss: 0.5537 - accuracy: 0.7974 - val_loss: 2.0301 - val_accuracy: 0.5024\n",
      "Epoch 59/100\n",
      "50000/50000 [==============================] - 6s 111us/step - loss: 0.5428 - accuracy: 0.8040 - val_loss: 2.0615 - val_accuracy: 0.5069\n",
      "Epoch 60/100\n",
      "50000/50000 [==============================] - 5s 110us/step - loss: 0.5429 - accuracy: 0.8066 - val_loss: 2.1026 - val_accuracy: 0.5136\n",
      "Epoch 61/100\n",
      "50000/50000 [==============================] - 5s 109us/step - loss: 0.5080 - accuracy: 0.8176 - val_loss: 2.2321 - val_accuracy: 0.5033\n",
      "Epoch 62/100\n",
      "50000/50000 [==============================] - 6s 111us/step - loss: 0.5050 - accuracy: 0.8169 - val_loss: 2.1376 - val_accuracy: 0.5087\n",
      "Epoch 63/100\n",
      "50000/50000 [==============================] - 5s 109us/step - loss: 0.5202 - accuracy: 0.8112 - val_loss: 2.2459 - val_accuracy: 0.4969\n",
      "Epoch 64/100\n",
      "50000/50000 [==============================] - 5s 109us/step - loss: 0.4815 - accuracy: 0.8265 - val_loss: 2.3623 - val_accuracy: 0.5095\n",
      "Epoch 65/100\n",
      "50000/50000 [==============================] - 6s 110us/step - loss: 0.4877 - accuracy: 0.8232 - val_loss: 2.4138 - val_accuracy: 0.4991\n",
      "Epoch 66/100\n",
      "50000/50000 [==============================] - 6s 111us/step - loss: 0.4870 - accuracy: 0.8242 - val_loss: 2.2952 - val_accuracy: 0.5069\n",
      "Epoch 67/100\n",
      "50000/50000 [==============================] - 6s 111us/step - loss: 0.4736 - accuracy: 0.8297 - val_loss: 2.3949 - val_accuracy: 0.5065\n",
      "Epoch 68/100\n",
      "50000/50000 [==============================] - 5s 110us/step - loss: 0.4703 - accuracy: 0.8308 - val_loss: 2.2953 - val_accuracy: 0.5065\n",
      "Epoch 69/100\n",
      "50000/50000 [==============================] - 5s 109us/step - loss: 0.4607 - accuracy: 0.8352 - val_loss: 2.3898 - val_accuracy: 0.5005\n",
      "Epoch 70/100\n",
      "50000/50000 [==============================] - 6s 111us/step - loss: 0.4507 - accuracy: 0.8374 - val_loss: 2.4076 - val_accuracy: 0.5050\n",
      "Epoch 71/100\n",
      "50000/50000 [==============================] - 6s 112us/step - loss: 0.4456 - accuracy: 0.8388 - val_loss: 2.4714 - val_accuracy: 0.4924\n",
      "Epoch 72/100\n",
      "50000/50000 [==============================] - 5s 109us/step - loss: 0.4311 - accuracy: 0.8450 - val_loss: 2.4973 - val_accuracy: 0.5127\n",
      "Epoch 73/100\n",
      "50000/50000 [==============================] - 6s 111us/step - loss: 0.4303 - accuracy: 0.8453 - val_loss: 2.6053 - val_accuracy: 0.4969\n",
      "Epoch 74/100\n",
      "50000/50000 [==============================] - 5s 109us/step - loss: 0.4371 - accuracy: 0.8423 - val_loss: 2.5754 - val_accuracy: 0.5031\n",
      "Epoch 75/100\n",
      "50000/50000 [==============================] - 5s 110us/step - loss: 0.4355 - accuracy: 0.8416 - val_loss: 2.6016 - val_accuracy: 0.5048\n",
      "Epoch 76/100\n",
      "50000/50000 [==============================] - 6s 111us/step - loss: 0.4088 - accuracy: 0.8521 - val_loss: 2.6145 - val_accuracy: 0.5048\n",
      "Epoch 77/100\n",
      "50000/50000 [==============================] - 5s 110us/step - loss: 0.4078 - accuracy: 0.8517 - val_loss: 2.7440 - val_accuracy: 0.5046\n",
      "Epoch 78/100\n",
      "50000/50000 [==============================] - 6s 110us/step - loss: 0.4029 - accuracy: 0.8538 - val_loss: 2.6429 - val_accuracy: 0.5083\n",
      "Epoch 79/100\n",
      "50000/50000 [==============================] - 6s 113us/step - loss: 0.3820 - accuracy: 0.8620 - val_loss: 2.6691 - val_accuracy: 0.5036\n",
      "Epoch 80/100\n",
      "50000/50000 [==============================] - 5s 109us/step - loss: 0.4044 - accuracy: 0.8546 - val_loss: 2.7424 - val_accuracy: 0.5073\n",
      "Epoch 81/100\n",
      "50000/50000 [==============================] - 6s 110us/step - loss: 0.3630 - accuracy: 0.8691 - val_loss: 2.7725 - val_accuracy: 0.5061\n",
      "Epoch 82/100\n",
      "50000/50000 [==============================] - 6s 112us/step - loss: 0.3699 - accuracy: 0.8649 - val_loss: 2.7344 - val_accuracy: 0.5019\n",
      "Epoch 83/100\n",
      "50000/50000 [==============================] - 5s 109us/step - loss: 0.3802 - accuracy: 0.8605 - val_loss: 2.9019 - val_accuracy: 0.4923\n",
      "Epoch 84/100\n",
      "50000/50000 [==============================] - 6s 110us/step - loss: 0.3919 - accuracy: 0.8587 - val_loss: 2.7964 - val_accuracy: 0.4969\n",
      "Epoch 85/100\n",
      "50000/50000 [==============================] - 6s 112us/step - loss: 0.3411 - accuracy: 0.8774 - val_loss: 2.9780 - val_accuracy: 0.4984\n",
      "Epoch 86/100\n",
      "50000/50000 [==============================] - 5s 110us/step - loss: 0.3844 - accuracy: 0.8622 - val_loss: 2.9995 - val_accuracy: 0.5012\n",
      "Epoch 87/100\n",
      "50000/50000 [==============================] - 5s 109us/step - loss: 0.3477 - accuracy: 0.8746 - val_loss: 3.0369 - val_accuracy: 0.4934\n",
      "Epoch 88/100\n",
      "50000/50000 [==============================] - 6s 111us/step - loss: 0.3399 - accuracy: 0.8769 - val_loss: 2.9097 - val_accuracy: 0.4971\n",
      "Epoch 89/100\n",
      "50000/50000 [==============================] - 5s 109us/step - loss: 0.3765 - accuracy: 0.8647 - val_loss: 2.9663 - val_accuracy: 0.4971\n",
      "Epoch 90/100\n",
      "50000/50000 [==============================] - 6s 112us/step - loss: 0.3573 - accuracy: 0.8722 - val_loss: 3.0017 - val_accuracy: 0.4975\n",
      "Epoch 91/100\n",
      "50000/50000 [==============================] - 6s 112us/step - loss: 0.3378 - accuracy: 0.8772 - val_loss: 3.0334 - val_accuracy: 0.5067\n",
      "Epoch 92/100\n",
      "50000/50000 [==============================] - 6s 110us/step - loss: 0.3247 - accuracy: 0.8833 - val_loss: 3.0468 - val_accuracy: 0.5007\n",
      "Epoch 93/100\n",
      "50000/50000 [==============================] - 6s 113us/step - loss: 0.3305 - accuracy: 0.8808 - val_loss: 3.1953 - val_accuracy: 0.5064\n",
      "Epoch 94/100\n",
      "50000/50000 [==============================] - 6s 111us/step - loss: 0.3533 - accuracy: 0.8739 - val_loss: 3.1152 - val_accuracy: 0.4997\n",
      "Epoch 95/100\n",
      "50000/50000 [==============================] - 6s 111us/step - loss: 0.3204 - accuracy: 0.8859 - val_loss: 3.1767 - val_accuracy: 0.4988\n",
      "Epoch 96/100\n",
      "50000/50000 [==============================] - 6s 111us/step - loss: 0.3098 - accuracy: 0.8895 - val_loss: 3.1604 - val_accuracy: 0.4993\n",
      "Epoch 97/100\n",
      "50000/50000 [==============================] - 6s 110us/step - loss: 0.3080 - accuracy: 0.8903 - val_loss: 3.2025 - val_accuracy: 0.5025\n",
      "Epoch 98/100\n",
      "50000/50000 [==============================] - 5s 109us/step - loss: 0.3325 - accuracy: 0.8812 - val_loss: 3.2431 - val_accuracy: 0.4971\n",
      "Epoch 99/100\n",
      "50000/50000 [==============================] - 6s 113us/step - loss: 0.3265 - accuracy: 0.8832 - val_loss: 3.4000 - val_accuracy: 0.4996\n",
      "Epoch 100/100\n",
      "50000/50000 [==============================] - 5s 109us/step - loss: 0.3238 - accuracy: 0.8835 - val_loss: 3.1930 - val_accuracy: 0.4917\n"
     ]
    },
    {
     "data": {
      "text/plain": [
       "<keras.callbacks.callbacks.History at 0x27594f8b9e8>"
      ]
     },
     "execution_count": 23,
     "metadata": {},
     "output_type": "execute_result"
    }
   ],
   "source": [
    "model.fit(x_train, y_train, \n",
    "          epochs=EPOCHS, \n",
    "          batch_size=BATCH_SIZE, \n",
    "          validation_data=(x_test, y_test), \n",
    "          shuffle=True)"
   ]
  },
  {
   "cell_type": "code",
   "execution_count": 25,
   "metadata": {},
   "outputs": [
    {
     "data": {
      "image/png": "[encoded data removed]",
      "text/plain": [
       "<Figure size 432x288 with 1 Axes>"
      ]
     },
     "metadata": {
      "needs_background": "light"
     },
     "output_type": "display_data"
    },
    {
     "data": {
      "image/png": "[encoded data removed]",
      "text/plain": [
       "<Figure size 432x288 with 1 Axes>"
      ]
     },
     "metadata": {
      "needs_background": "light"
     },
     "output_type": "display_data"
    }
   ],
   "source": [
    "import matplotlib.pyplot as plt\n",
    "\n",
    "\n",
    "train_loss = model.history.history[\"loss\"]\n",
    "valid_loss = model.history.history[\"val_loss\"]\n",
    "\n",
    "train_acc = model.history.history[\"accuracy\"]\n",
    "valid_acc = model.history.history[\"val_accuracy\"]\n",
    "\n",
    "plt.plot(range(len(train_loss)), train_loss, label=\"train loss\")\n",
    "plt.plot(range(len(valid_loss)), valid_loss, label=\"valid loss\")\n",
    "plt.legend()\n",
    "plt.title(\"Loss\")\n",
    "plt.show()\n",
    "\n",
    "plt.plot(range(len(train_acc)), train_acc, label=\"train accuracy\")\n",
    "plt.plot(range(len(valid_acc)), valid_acc, label=\"valid accuracy\")\n",
    "plt.legend()\n",
    "plt.title(\"Accuracy\")\n",
    "plt.show()"
   ]
  }
 ],
 "metadata": {
  "kernelspec": {
   "display_name": "Python 3",
   "language": "python",
   "name": "python3"
  },
  "language_info": {
   "codemirror_mode": {
    "name": "ipython",
    "version": 3
   },
   "file_extension": ".py",
   "mimetype": "text/x-python",
   "name": "python",
   "nbconvert_exporter": "python",
   "pygments_lexer": "ipython3",
   "version": "3.7.3"
  }
 },
 "nbformat": 4,
 "nbformat_minor": 2
}
