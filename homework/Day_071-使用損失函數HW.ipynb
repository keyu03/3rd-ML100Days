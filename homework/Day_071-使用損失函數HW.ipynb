{
 "cells": [
  {
   "cell_type": "markdown",
   "metadata": {
    "colab_type": "text",
    "id": "cj4tE8e8iUtO"
   },
   "source": [
    "#   \n",
    "\n",
    "# 作業目標:\n",
    "\n",
    "    1. 藉由固定的 dataset, 來驗證不同loss function\n",
    "    2. Dataset 的特性跟我們選用的loss function 對accrancy 的影響\n",
    "    \n",
    "    \n",
    "# 作業重點: \n",
    "    請分別選用 \"MSE\", \"binary _crossentropy\"\n",
    "    查看Train/test accurancy and loss rate\n",
    "    "
   ]
  },
  {
   "cell_type": "markdown",
   "metadata": {
    "colab_type": "text",
    "id": "R51J4KyyiUsL"
   },
   "source": [
    "# 導入必要的函數"
   ]
  },
  {
   "cell_type": "code",
   "execution_count": 1,
   "metadata": {
    "colab": {},
    "colab_type": "code",
    "id": "Qd68OQjciUsM"
   },
   "outputs": [
    {
     "name": "stderr",
     "output_type": "stream",
     "text": [
      "Using TensorFlow backend.\n"
     ]
    }
   ],
   "source": [
    "from keras.datasets import cifar10\n",
    "import numpy as np\n",
    "np.random.seed(10)"
   ]
  },
  {
   "cell_type": "markdown",
   "metadata": {
    "colab_type": "text",
    "id": "GxKuzQLQiUsP"
   },
   "source": [
    "# 資料準備"
   ]
  },
  {
   "cell_type": "code",
   "execution_count": 2,
   "metadata": {
    "colab": {},
    "colab_type": "code",
    "id": "MIbFZdTCiUsQ"
   },
   "outputs": [],
   "source": [
    "#取得Keras Dataset\n",
    "(x_img_train,y_label_train),(x_img_test,y_label_test)=cifar10.load_data()"
   ]
  },
  {
   "cell_type": "code",
   "execution_count": 3,
   "metadata": {
    "colab": {},
    "colab_type": "code",
    "id": "J8CJVjNOiUsS"
   },
   "outputs": [
    {
     "name": "stdout",
     "output_type": "stream",
     "text": [
      "train data: images: (50000, 32, 32, 3)  labels: (50000, 1)\n",
      "test  data: images: (10000, 32, 32, 3)  labels: (10000, 1)\n"
     ]
    }
   ],
   "source": [
    "#確認 CIFAR10 Dataset 資料維度\n",
    "print(\"train data:\",'images:',x_img_train.shape,\n",
    "      \" labels:\",y_label_train.shape) \n",
    "print(\"test  data:\",'images:',x_img_test.shape ,\n",
    "      \" labels:\",y_label_test.shape) "
   ]
  },
  {
   "cell_type": "code",
   "execution_count": 4,
   "metadata": {
    "colab": {},
    "colab_type": "code",
    "id": "V3P6P4DXiUsV"
   },
   "outputs": [],
   "source": [
    "#資料正規化\n",
    "x_img_train_normalize = x_img_train.astype('float32') / 255.0\n",
    "x_img_test_normalize = x_img_test.astype('float32') / 255.0"
   ]
  },
  {
   "cell_type": "code",
   "execution_count": 5,
   "metadata": {
    "colab": {},
    "colab_type": "code",
    "id": "vsDyjKYliUsX"
   },
   "outputs": [
    {
     "data": {
      "text/plain": [
       "(10000, 10)"
      ]
     },
     "execution_count": 5,
     "metadata": {},
     "output_type": "execute_result"
    }
   ],
   "source": [
    "#針對Label 做 ONE HOT ENCODE\n",
    "from keras.utils import np_utils\n",
    "y_label_train_OneHot = np_utils.to_categorical(y_label_train)\n",
    "y_label_test_OneHot = np_utils.to_categorical(y_label_test)\n",
    "y_label_test_OneHot.shape"
   ]
  },
  {
   "cell_type": "markdown",
   "metadata": {
    "colab_type": "text",
    "id": "RutW2OtgiUsZ"
   },
   "source": [
    "# 建立模型"
   ]
  },
  {
   "cell_type": "code",
   "execution_count": 6,
   "metadata": {
    "colab": {},
    "colab_type": "code",
    "id": "aHz592aXiUsa"
   },
   "outputs": [],
   "source": [
    "from keras.models import Sequential\n",
    "from keras.layers import Dense, Dropout, Activation, Flatten\n",
    "from keras.layers import Conv2D, MaxPooling2D, ZeroPadding2D"
   ]
  },
  {
   "cell_type": "code",
   "execution_count": 7,
   "metadata": {
    "colab": {},
    "colab_type": "code",
    "id": "hslqrIp0iUse"
   },
   "outputs": [],
   "source": [
    "model = Sequential()"
   ]
  },
  {
   "cell_type": "code",
   "execution_count": 8,
   "metadata": {
    "colab": {},
    "colab_type": "code",
    "id": "Hqe35hs2iUsi"
   },
   "outputs": [],
   "source": [
    "#卷積層1"
   ]
  },
  {
   "cell_type": "code",
   "execution_count": 9,
   "metadata": {
    "colab": {},
    "colab_type": "code",
    "id": "ED7dqe1YiUsm"
   },
   "outputs": [],
   "source": [
    "model.add(Conv2D(filters=32,kernel_size=(3,3),\n",
    "                 input_shape=(32, 32,3), \n",
    "                 activation='relu', \n",
    "                 padding='same'))"
   ]
  },
  {
   "cell_type": "code",
   "execution_count": 10,
   "metadata": {
    "colab": {},
    "colab_type": "code",
    "id": "n-GRKmPViUso"
   },
   "outputs": [],
   "source": [
    "model.add(Dropout(rate=0.25))"
   ]
  },
  {
   "cell_type": "code",
   "execution_count": 11,
   "metadata": {
    "colab": {},
    "colab_type": "code",
    "id": "GlWnnD1uiUsw"
   },
   "outputs": [],
   "source": [
    "model.add(MaxPooling2D(pool_size=(2, 2)))"
   ]
  },
  {
   "cell_type": "code",
   "execution_count": 12,
   "metadata": {
    "colab": {},
    "colab_type": "code",
    "id": "nawlkt55iUsy"
   },
   "outputs": [],
   "source": [
    "#卷積層2與池化層2"
   ]
  },
  {
   "cell_type": "code",
   "execution_count": 13,
   "metadata": {
    "colab": {},
    "colab_type": "code",
    "id": "xxyETiKNiUs1"
   },
   "outputs": [],
   "source": [
    "model.add(Conv2D(filters=64, kernel_size=(3, 3), \n",
    "                 activation='relu', padding='same'))"
   ]
  },
  {
   "cell_type": "code",
   "execution_count": 14,
   "metadata": {
    "colab": {},
    "colab_type": "code",
    "id": "RqcKWtqGiUs2"
   },
   "outputs": [],
   "source": [
    "model.add(Dropout(0.25))"
   ]
  },
  {
   "cell_type": "code",
   "execution_count": 15,
   "metadata": {
    "colab": {},
    "colab_type": "code",
    "id": "BUOOzlqfiUs4"
   },
   "outputs": [],
   "source": [
    "model.add(MaxPooling2D(pool_size=(2, 2)))"
   ]
  },
  {
   "cell_type": "code",
   "execution_count": 16,
   "metadata": {
    "colab": {},
    "colab_type": "code",
    "id": "LpkppB2siUs7"
   },
   "outputs": [],
   "source": [
    "#建立神經網路(平坦層、隱藏層、輸出層)"
   ]
  },
  {
   "cell_type": "code",
   "execution_count": 17,
   "metadata": {
    "colab": {},
    "colab_type": "code",
    "id": "UQOfU54_iUs_"
   },
   "outputs": [],
   "source": [
    "model.add(Flatten())\n",
    "model.add(Dropout(rate=0.25))"
   ]
  },
  {
   "cell_type": "code",
   "execution_count": 18,
   "metadata": {
    "colab": {},
    "colab_type": "code",
    "id": "_NV-8sq4iUtD"
   },
   "outputs": [],
   "source": [
    "model.add(Dense(1024, activation='relu'))\n",
    "model.add(Dropout(rate=0.25))"
   ]
  },
  {
   "cell_type": "code",
   "execution_count": 19,
   "metadata": {
    "colab": {},
    "colab_type": "code",
    "id": "qVK77krOiUtF"
   },
   "outputs": [],
   "source": [
    "model.add(Dense(10, activation='softmax'))"
   ]
  },
  {
   "cell_type": "code",
   "execution_count": 20,
   "metadata": {
    "colab": {},
    "colab_type": "code",
    "id": "ZxzRIjR0iUtH"
   },
   "outputs": [
    {
     "name": "stdout",
     "output_type": "stream",
     "text": [
      "Model: \"sequential_1\"\n",
      "_________________________________________________________________\n",
      "Layer (type)                 Output Shape              Param #   \n",
      "=================================================================\n",
      "conv2d_1 (Conv2D)            (None, 32, 32, 32)        896       \n",
      "_________________________________________________________________\n",
      "dropout_1 (Dropout)          (None, 32, 32, 32)        0         \n",
      "_________________________________________________________________\n",
      "max_pooling2d_1 (MaxPooling2 (None, 16, 16, 32)        0         \n",
      "_________________________________________________________________\n",
      "conv2d_2 (Conv2D)            (None, 16, 16, 64)        18496     \n",
      "_________________________________________________________________\n",
      "dropout_2 (Dropout)          (None, 16, 16, 64)        0         \n",
      "_________________________________________________________________\n",
      "max_pooling2d_2 (MaxPooling2 (None, 8, 8, 64)          0         \n",
      "_________________________________________________________________\n",
      "flatten_1 (Flatten)          (None, 4096)              0         \n",
      "_________________________________________________________________\n",
      "dropout_3 (Dropout)          (None, 4096)              0         \n",
      "_________________________________________________________________\n",
      "dense_1 (Dense)              (None, 1024)              4195328   \n",
      "_________________________________________________________________\n",
      "dropout_4 (Dropout)          (None, 1024)              0         \n",
      "_________________________________________________________________\n",
      "dense_2 (Dense)              (None, 10)                10250     \n",
      "=================================================================\n",
      "Total params: 4,224,970\n",
      "Trainable params: 4,224,970\n",
      "Non-trainable params: 0\n",
      "_________________________________________________________________\n",
      "None\n"
     ]
    }
   ],
   "source": [
    "#檢查model 的STACK\n",
    "print(model.summary())"
   ]
  },
  {
   "cell_type": "markdown",
   "metadata": {
    "colab_type": "text",
    "id": "QJCtpJM0iUtJ"
   },
   "source": [
    "# 載入之前訓練的模型"
   ]
  },
  {
   "cell_type": "code",
   "execution_count": 21,
   "metadata": {
    "colab": {},
    "colab_type": "code",
    "id": "JU3A6NzQiUtK"
   },
   "outputs": [
    {
     "name": "stdout",
     "output_type": "stream",
     "text": [
      "載入模型失敗!開始訓練一個新模型\n"
     ]
    }
   ],
   "source": [
    "try:\n",
    "    model.load_weights(\"SaveModel/cifarCnnModel.h5\")\n",
    "    print(\"載入模型成功!繼續訓練模型\")\n",
    "except :    \n",
    "    print(\"載入模型失敗!開始訓練一個新模型\")"
   ]
  },
  {
   "cell_type": "markdown",
   "metadata": {
    "colab_type": "text",
    "id": "qBbCuziziUtM"
   },
   "source": [
    "# 訓練模型"
   ]
  },
  {
   "cell_type": "code",
   "execution_count": 25,
   "metadata": {
    "colab": {},
    "colab_type": "code",
    "id": "Q6BiBcseiUtP"
   },
   "outputs": [
    {
     "data": {
      "text/plain": [
       "'\\n作業: categorical_crossentropy\\n請分別選用 \"MSE\", \"binary _crossentropy\"\\n查看Train/test accurancy and loss rate\\n'"
      ]
     },
     "execution_count": 25,
     "metadata": {},
     "output_type": "execute_result"
    }
   ],
   "source": [
    "model.compile(loss='MSE', optimizer='sgd', metrics=['accuracy'])\n",
    "\n",
    "'''\n",
    "作業: categorical_crossentropy\n",
    "請分別選用 \"MSE\", \"binary _crossentropy\"\n",
    "查看Train/test accurancy and loss rate\n",
    "'''"
   ]
  },
  {
   "cell_type": "code",
   "execution_count": 26,
   "metadata": {},
   "outputs": [
    {
     "name": "stdout",
     "output_type": "stream",
     "text": [
      "Train on 37500 samples, validate on 12500 samples\n",
      "Epoch 1/12\n",
      "37500/37500 [==============================] - 42s 1ms/step - loss: 0.0755 - accuracy: 0.3819 - val_loss: 0.0776 - val_accuracy: 0.4029\n",
      "Epoch 2/12\n",
      "37500/37500 [==============================] - 42s 1ms/step - loss: 0.0753 - accuracy: 0.3834 - val_loss: 0.0774 - val_accuracy: 0.4046\n",
      "Epoch 3/12\n",
      "37500/37500 [==============================] - 43s 1ms/step - loss: 0.0751 - accuracy: 0.3847 - val_loss: 0.0772 - val_accuracy: 0.4053\n",
      "Epoch 4/12\n",
      "37500/37500 [==============================] - 42s 1ms/step - loss: 0.0750 - accuracy: 0.3877 - val_loss: 0.0771 - val_accuracy: 0.4046\n",
      "Epoch 5/12\n",
      "37500/37500 [==============================] - 42s 1ms/step - loss: 0.0749 - accuracy: 0.3857 - val_loss: 0.0770 - val_accuracy: 0.4062\n",
      "Epoch 6/12\n",
      "37500/37500 [==============================] - 42s 1ms/step - loss: 0.0748 - accuracy: 0.3863 - val_loss: 0.0769 - val_accuracy: 0.4083\n",
      "Epoch 7/12\n",
      "37500/37500 [==============================] - 44s 1ms/step - loss: 0.0746 - accuracy: 0.3892 - val_loss: 0.0767 - val_accuracy: 0.4093\n",
      "Epoch 8/12\n",
      "37500/37500 [==============================] - 46s 1ms/step - loss: 0.0745 - accuracy: 0.3899 - val_loss: 0.0766 - val_accuracy: 0.4095\n",
      "Epoch 9/12\n",
      "37500/37500 [==============================] - 42s 1ms/step - loss: 0.0744 - accuracy: 0.3923 - val_loss: 0.0765 - val_accuracy: 0.4115\n",
      "Epoch 10/12\n",
      "37500/37500 [==============================] - 42s 1ms/step - loss: 0.0743 - accuracy: 0.3913 - val_loss: 0.0764 - val_accuracy: 0.4133\n",
      "Epoch 11/12\n",
      "37500/37500 [==============================] - 42s 1ms/step - loss: 0.0741 - accuracy: 0.3944 - val_loss: 0.0763 - val_accuracy: 0.4139\n",
      "Epoch 12/12\n",
      "37500/37500 [==============================] - 42s 1ms/step - loss: 0.0740 - accuracy: 0.3969 - val_loss: 0.0762 - val_accuracy: 0.4163\n"
     ]
    }
   ],
   "source": [
    "#模型訓練, \"Train_History\" 把訓練過程所得到的數值存起來\n",
    "train_history=model.fit(x_img_train_normalize, y_label_train_OneHot,\n",
    "                        validation_split=0.25,\n",
    "                        epochs=12, batch_size=128, verbose=1)"
   ]
  },
  {
   "cell_type": "code",
   "execution_count": 28,
   "metadata": {
    "colab": {},
    "colab_type": "code",
    "id": "4-GdDgmQiUtS"
   },
   "outputs": [],
   "source": [
    "import matplotlib.pyplot as plt\n",
    "%matplotlib inline\n",
    "\n",
    "#定義一個繪圖函數\n",
    "def show_train_history(train_acc,test_acc):\n",
    "    plt.plot(train_history.history[train_acc])\n",
    "    plt.plot(train_history.history[test_acc])\n",
    "    plt.title('Train History')\n",
    "    plt.ylabel('Accuracy')\n",
    "    plt.xlabel('Epoch')\n",
    "    plt.legend(['train_acc', 'val_acc'], loc='upper left')\n",
    "    plt.show()"
   ]
  },
  {
   "cell_type": "code",
   "execution_count": 29,
   "metadata": {},
   "outputs": [
    {
     "data": {
      "image/png": "[encoded data removed]",
      "text/plain": [
       "<Figure size 432x288 with 1 Axes>"
      ]
     },
     "metadata": {
      "needs_background": "light"
     },
     "output_type": "display_data"
    }
   ],
   "source": [
    "show_train_history('accuracy','val_accuracy')"
   ]
  },
  {
   "cell_type": "code",
   "execution_count": 31,
   "metadata": {},
   "outputs": [],
   "source": [
    "model.compile(loss='binary_crossentropy', optimizer='sgd', metrics=['accuracy'])"
   ]
  },
  {
   "cell_type": "code",
   "execution_count": 32,
   "metadata": {},
   "outputs": [
    {
     "name": "stdout",
     "output_type": "stream",
     "text": [
      "Train on 37500 samples, validate on 12500 samples\n",
      "Epoch 1/12\n",
      "37500/37500 [==============================] - 42s 1ms/step - loss: 0.2540 - accuracy: 0.9054 - val_loss: 0.2622 - val_accuracy: 0.9014\n",
      "Epoch 2/12\n",
      "37500/37500 [==============================] - 42s 1ms/step - loss: 0.2524 - accuracy: 0.9058 - val_loss: 0.2608 - val_accuracy: 0.9015\n",
      "Epoch 3/12\n",
      "37500/37500 [==============================] - 42s 1ms/step - loss: 0.2511 - accuracy: 0.9059 - val_loss: 0.2596 - val_accuracy: 0.9016\n",
      "Epoch 4/12\n",
      "37500/37500 [==============================] - 42s 1ms/step - loss: 0.2497 - accuracy: 0.9062 - val_loss: 0.2580 - val_accuracy: 0.9016\n",
      "Epoch 5/12\n",
      "37500/37500 [==============================] - 42s 1ms/step - loss: 0.2479 - accuracy: 0.9066 - val_loss: 0.2573 - val_accuracy: 0.9018\n",
      "Epoch 6/12\n",
      "37500/37500 [==============================] - 42s 1ms/step - loss: 0.2468 - accuracy: 0.9067 - val_loss: 0.2551 - val_accuracy: 0.9022\n",
      "Epoch 7/12\n",
      "37500/37500 [==============================] - 42s 1ms/step - loss: 0.2459 - accuracy: 0.9071 - val_loss: 0.2544 - val_accuracy: 0.9022\n",
      "Epoch 8/12\n",
      "37500/37500 [==============================] - 42s 1ms/step - loss: 0.2447 - accuracy: 0.9072 - val_loss: 0.2531 - val_accuracy: 0.9024\n",
      "Epoch 9/12\n",
      "37500/37500 [==============================] - 42s 1ms/step - loss: 0.2432 - accuracy: 0.9079 - val_loss: 0.2521 - val_accuracy: 0.9026\n",
      "Epoch 10/12\n",
      "37500/37500 [==============================] - 42s 1ms/step - loss: 0.2425 - accuracy: 0.9078 - val_loss: 0.2507 - val_accuracy: 0.9028\n",
      "Epoch 11/12\n",
      "37500/37500 [==============================] - 42s 1ms/step - loss: 0.2410 - accuracy: 0.9080 - val_loss: 0.2500 - val_accuracy: 0.9031\n",
      "Epoch 12/12\n",
      "37500/37500 [==============================] - 43s 1ms/step - loss: 0.2403 - accuracy: 0.9085 - val_loss: 0.2484 - val_accuracy: 0.9033\n"
     ]
    }
   ],
   "source": [
    "#模型訓練, \"Train_History\" 把訓練過程所得到的數值存起來\n",
    "train_history=model.fit(x_img_train_normalize, y_label_train_OneHot,\n",
    "                        validation_split=0.25,\n",
    "                        epochs=12, batch_size=128, verbose=1)"
   ]
  },
  {
   "cell_type": "code",
   "execution_count": 35,
   "metadata": {},
   "outputs": [
    {
     "data": {
      "image/png": "[encoded data removed]",
      "text/plain": [
       "<Figure size 432x288 with 1 Axes>"
      ]
     },
     "metadata": {
      "needs_background": "light"
     },
     "output_type": "display_data"
    }
   ],
   "source": [
    "show_train_history('accuracy','val_accuracy')"
   ]
  },
  {
   "cell_type": "code",
   "execution_count": 36,
   "metadata": {},
   "outputs": [],
   "source": [
    "model.compile(loss='categorical_crossentropy', optimizer='sgd', metrics=['accuracy'])"
   ]
  },
  {
   "cell_type": "code",
   "execution_count": 37,
   "metadata": {},
   "outputs": [
    {
     "name": "stdout",
     "output_type": "stream",
     "text": [
      "Train on 37500 samples, validate on 12500 samples\n",
      "Epoch 1/12\n",
      "37500/37500 [==============================] - 43s 1ms/step - loss: 1.5917 - accuracy: 0.4338 - val_loss: 1.6175 - val_accuracy: 0.4634\n",
      "Epoch 2/12\n",
      "37500/37500 [==============================] - 42s 1ms/step - loss: 1.5241 - accuracy: 0.4559 - val_loss: 1.5838 - val_accuracy: 0.4661\n",
      "Epoch 3/12\n",
      "37500/37500 [==============================] - 42s 1ms/step - loss: 1.4762 - accuracy: 0.4707 - val_loss: 1.5102 - val_accuracy: 0.5030\n",
      "Epoch 4/12\n",
      "37500/37500 [==============================] - 42s 1ms/step - loss: 1.4392 - accuracy: 0.4889 - val_loss: 1.4718 - val_accuracy: 0.5174\n",
      "Epoch 5/12\n",
      "37500/37500 [==============================] - 43s 1ms/step - loss: 1.4034 - accuracy: 0.4976 - val_loss: 1.4454 - val_accuracy: 0.5278\n",
      "Epoch 6/12\n",
      "37500/37500 [==============================] - 42s 1ms/step - loss: 1.3743 - accuracy: 0.5084 - val_loss: 1.4173 - val_accuracy: 0.5226\n",
      "Epoch 7/12\n",
      "37500/37500 [==============================] - 42s 1ms/step - loss: 1.3495 - accuracy: 0.5158 - val_loss: 1.3954 - val_accuracy: 0.5481\n",
      "Epoch 8/12\n",
      "37500/37500 [==============================] - 42s 1ms/step - loss: 1.3231 - accuracy: 0.5295 - val_loss: 1.3664 - val_accuracy: 0.5435\n",
      "Epoch 9/12\n",
      "37500/37500 [==============================] - 42s 1ms/step - loss: 1.3046 - accuracy: 0.5351 - val_loss: 1.3570 - val_accuracy: 0.5569\n",
      "Epoch 10/12\n",
      "37500/37500 [==============================] - 42s 1ms/step - loss: 1.2839 - accuracy: 0.5437 - val_loss: 1.3472 - val_accuracy: 0.5547\n",
      "Epoch 11/12\n",
      "37500/37500 [==============================] - 42s 1ms/step - loss: 1.2606 - accuracy: 0.5511 - val_loss: 1.3256 - val_accuracy: 0.5685\n",
      "Epoch 12/12\n",
      "37500/37500 [==============================] - 43s 1ms/step - loss: 1.2482 - accuracy: 0.5545 - val_loss: 1.3266 - val_accuracy: 0.5696\n"
     ]
    }
   ],
   "source": [
    "#模型訓練, \"Train_History\" 把訓練過程所得到的數值存起來\n",
    "train_history=model.fit(x_img_train_normalize, y_label_train_OneHot,\n",
    "                        validation_split=0.25,\n",
    "                        epochs=12, batch_size=128, verbose=1)"
   ]
  },
  {
   "cell_type": "code",
   "execution_count": 38,
   "metadata": {},
   "outputs": [
    {
     "data": {
      "image/png": "[encoded data removed]",
      "text/plain": [
       "<Figure size 432x288 with 1 Axes>"
      ]
     },
     "metadata": {
      "needs_background": "light"
     },
     "output_type": "display_data"
    }
   ],
   "source": [
    "show_train_history('accuracy','val_accuracy')"
   ]
  }
 ],
 "metadata": {
  "colab": {
   "name": "Day71-使用損失函數_HW.ipynb",
   "provenance": [],
   "version": "0.3.2"
  },
  "kernelspec": {
   "display_name": "Python 3",
   "language": "python",
   "name": "python3"
  },
  "language_info": {
   "codemirror_mode": {
    "name": "ipython",
    "version": 3
   },
   "file_extension": ".py",
   "mimetype": "text/x-python",
   "name": "python",
   "nbconvert_exporter": "python",
   "pygments_lexer": "ipython3",
   "version": "3.7.3"
  }
 },
 "nbformat": 4,
 "nbformat_minor": 1
}
