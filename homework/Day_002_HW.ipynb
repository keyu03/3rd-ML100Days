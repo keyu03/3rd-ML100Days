{
 "cells": [
  {
   "cell_type": "markdown",
   "metadata": {},
   "source": [
    "## [作業目標]\n",
    "了解機器學習適合應用的領域與範疇。"
   ]
  },
  {
   "cell_type": "markdown",
   "metadata": {},
   "source": [
    "## [作業重點]\n",
    "透過瞭解機器學習的運作方式，找出非常適用機器學習應用的領域及其原因"
   ]
  },
  {
   "cell_type": "markdown",
   "metadata": {},
   "source": [
    "## 作業\n",
    "請找出一個你認為機器學習可以發光發熱的領域並闡述原因? \n",
    "\n",
    "ans:\n",
    "機器學習在語意分析的應用上會有很大的發展空間，但如很多的專家門所述，目前受到各種語言、生活、文化的不同，\n",
    "在語意表達上會有很大的挑戰，語意的訓練必須投入很多的資源，雖然現有的對話機器人可以做到一些簡單的\n",
    "事情，但都是透過關鍵字指令，或是監督式訓練執行特定任務，但未來一旦其語意更為貼近人類的表達意思，將造\n",
    "成很大的改變，例如將自然語言結合語音對話，而不是僅命令式的執行特定動作，也可以從對話中，透過電腦分析\n",
    "顧客的需求與感受。"
   ]
  },
  {
   "cell_type": "code",
   "execution_count": null,
   "metadata": {},
   "outputs": [],
   "source": []
  }
 ],
 "metadata": {
  "kernelspec": {
   "display_name": "Python 3",
   "language": "python",
   "name": "python3"
  },
  "language_info": {
   "codemirror_mode": {
    "name": "ipython",
    "version": 3
   },
   "file_extension": ".py",
   "mimetype": "text/x-python",
   "name": "python",
   "nbconvert_exporter": "python",
   "pygments_lexer": "ipython3",
   "version": "3.7.3"
  }
 },
 "nbformat": 4,
 "nbformat_minor": 2
}
